{
 "cells": [
  {
   "cell_type": "markdown",
   "id": "f96a6b78",
   "metadata": {},
   "source": [
    "PRIMER PUNTO\n"
   ]
  },
  {
   "cell_type": "code",
   "execution_count": 5,
   "id": "0528717f",
   "metadata": {},
   "outputs": [],
   "source": [
    "from matplotlib import pyplot, pylab, mlab\n",
    "from pylab import *\n",
    "import numpy as np\n",
    "import sympy as sym"
   ]
  },
  {
   "cell_type": "code",
   "execution_count": 7,
   "id": "24b6ac2c",
   "metadata": {},
   "outputs": [
    {
     "name": "stdout",
     "output_type": "stream",
     "text": [
      "Solución al sistema [] \n"
     ]
    }
   ],
   "source": [
    "#Las variables de decisión corresponde a la cantidad de productos G,M y P \n",
    "#que se producen en las fabricas 1 2 y 3.\n",
    "#Sistema 9X9\n",
    "sym.init_printing()\n",
    "\n",
    "g1,g2,g3,m1,m2,m3,p1,p2,p3 = sym.symbols(\"g1,g2,g3,m1,m2,m3,p1,p2,p3\")\n",
    "#sistema de acuaciones planteado:\n",
    "r11 = sym.Eq(g1 + m1 + p1, 750)\n",
    "r12= sym.Eq(g2 + m2 + p2, 900)\n",
    "r13= sym.Eq(g3 + m3 + p3, 450)\n",
    "r21= sym.Eq(20*g1 + 15*m1 + 12*p1, 13000)\n",
    "r22= sym.Eq(20*g2 + 15*m2 + 12*p2, 12000)\n",
    "r23= sym.Eq(20*g3 + 15*m3 + 12*p3, 5000)\n",
    "r31= sym.Eq(g1 + g2+ g3, 900)\n",
    "r32= sym.Eq(m1 +m2 +m3, 1200)\n",
    "r33= sym.Eq(p1 + p2+ p3, 750)\n",
    "\n",
    "sol = sym.solve([r11,r12,r13,r21,r22,r23,r31,r32,r33],(g1,g2,g3,m1,m2,m3,p1,p2,p3))\n",
    "print (f\"Solución al sistema {sol} \")\n",
    "\n",
    " \n"
   ]
  },
  {
   "cell_type": "code",
   "execution_count": null,
   "id": "742ce239",
   "metadata": {},
   "outputs": [],
   "source": []
  },
  {
   "cell_type": "markdown",
   "id": "6ea84e45",
   "metadata": {},
   "source": [
    "# SEGUNDO PUNTO\n"
   ]
  },
  {
   "cell_type": "markdown",
   "id": "5db56c0d",
   "metadata": {},
   "source": [
    "# TERCER PUNTO"
   ]
  }
 ],
 "metadata": {
  "kernelspec": {
   "display_name": "Python 3.6.9 64-bit",
   "language": "python",
   "name": "python3"
  },
  "language_info": {
   "codemirror_mode": {
    "name": "ipython",
    "version": 3
   },
   "file_extension": ".py",
   "mimetype": "text/x-python",
   "name": "python",
   "nbconvert_exporter": "python",
   "pygments_lexer": "ipython3",
   "version": "3.10.2"
  },
  "vscode": {
   "interpreter": {
    "hash": "31f2aee4e71d21fbe5cf8b01ff0e069b9275f58929596ceb00d14d90e3e16cd6"
   }
  }
 },
 "nbformat": 4,
 "nbformat_minor": 5
}
