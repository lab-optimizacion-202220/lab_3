{
 "cells": [
  {
   "cell_type": "markdown",
   "id": "f96a6b78",
   "metadata": {},
   "source": [
    "PRIMER PUNTO\n"
   ]
  },
  {
   "cell_type": "code",
   "execution_count": 7,
   "id": "0528717f",
   "metadata": {},
   "outputs": [],
   "source": [
    "from matplotlib import pyplot, pylab, mlab\n",
    "from pylab import *\n",
    "from scipy.optimize import linprog\n",
    "import numpy as np\n",
    "import sympy as sym"
   ]
  },
  {
   "cell_type": "code",
   "execution_count": 24,
   "id": "24b6ac2c",
   "metadata": {},
   "outputs": [
    {
     "name": "stdout",
     "output_type": "stream",
     "text": [
      "Optimization terminated successfully.\n",
      "         Current function value: -236000.000000\n",
      "         Iterations: 8\n",
      "Solución a la maximización 236000.0 \n",
      "Valores obtenidos = [350.           0.           0.         400.         533.33333333\n",
      "   0.           0.         333.33333333 416.66666667] \n"
     ]
    }
   ],
   "source": [
    "#Las variables de decisión corresponde a la cantidad de productos G,M y P \n",
    "#que se producen en las fabricas 1 2 y 3.\n",
    "#Sistema 9X9\n",
    "#x_0 = Grande fabrica 1, x_1 = mediano fabrica 1, x_2 = pequeño fabrica 1, x_3 = grande fabrica 2 y así sucesivamente\n",
    "#c = vector de la funcion a maximizar\n",
    "c = [-140,-140,-140, -120,-120,-120,-100,-100,-100]\n",
    "#A = matrix que contiene las restricciones del problema \n",
    "A = [[1,0,0,1,0,0,1,0,0], [0,1,0,0,1,0,0,1,0], [0,0,1,0,0,1,0,0,1], [20,0,0,15,0,0,12,0,0],[0,20,0,0,15,0,0,12,0],[0,0,20,0,0,15,0,0,12],[1,1,1,0,0,0,0,0,0],[0,0,0,1,1,1,0,0,0],[0,0,0,0,0,0,1,1,1]]\n",
    "#b = vector de desigualdades de las restricciones\n",
    "b = [750,900,450,13000,12000,5000,900,1200,750]\n",
    "#límites de las variables, en este caso solo se pone que sean mayores a 0\n",
    "x0_bounds = (0, None)\n",
    "x1_bounds = (0, None)\n",
    "x2_bounds = (0, None)\n",
    "x3_bounds = (0, None)\n",
    "x4_bounds = (0, None)\n",
    "x5_bounds = (0, None)\n",
    "x6_bounds = (0, None)\n",
    "x7_bounds = (0, None)\n",
    "x8_bounds = (0, None)\n",
    "#Respuesta del problema de minimización\n",
    "res = linprog(c, A_ub=A, b_ub=b, bounds=[x0_bounds, x1_bounds,x2_bounds, x3_bounds,x4_bounds, x5_bounds,x6_bounds, x7_bounds,x8_bounds], options= {\"disp\":True})\n",
    "#valor minimizado\n",
    "sol =res.fun\n",
    "#valores que toma cada una de las variables\n",
    "valores = res.x\n",
    "print (f\"Solución a la maximización {abs(sol)} \")\n",
    "print (f\"Valores obtenidos = {valores} \")\n",
    "\n"
   ]
  },
  {
   "cell_type": "code",
   "execution_count": null,
   "id": "742ce239",
   "metadata": {},
   "outputs": [],
   "source": []
  },
  {
   "cell_type": "markdown",
   "id": "6ea84e45",
   "metadata": {},
   "source": [
    "# SEGUNDO PUNTO\n"
   ]
  },
  {
   "cell_type": "markdown",
   "id": "5db56c0d",
   "metadata": {},
   "source": [
    "# TERCER PUNTO"
   ]
  }
 ],
 "metadata": {
  "kernelspec": {
   "display_name": "Python 3.6.9 64-bit",
   "language": "python",
   "name": "python3"
  },
  "language_info": {
   "codemirror_mode": {
    "name": "ipython",
    "version": 3
   },
   "file_extension": ".py",
   "mimetype": "text/x-python",
   "name": "python",
   "nbconvert_exporter": "python",
   "pygments_lexer": "ipython3",
   "version": "3.6.9"
  },
  "vscode": {
   "interpreter": {
    "hash": "31f2aee4e71d21fbe5cf8b01ff0e069b9275f58929596ceb00d14d90e3e16cd6"
   }
  }
 },
 "nbformat": 4,
 "nbformat_minor": 5
}
