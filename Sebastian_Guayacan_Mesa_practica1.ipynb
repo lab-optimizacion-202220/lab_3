{
 "cells": [
  {
   "cell_type": "code",
   "execution_count": 1,
   "metadata": {},
   "outputs": [
    {
     "name": "stdout",
     "output_type": "stream",
     "text": [
      "Collecting numpy\n",
      "  Using cached https://files.pythonhosted.org/packages/45/b2/6c7545bb7a38754d63048c7696804a0d947328125d81bf12beaa692c3ae3/numpy-1.19.5-cp36-cp36m-manylinux1_x86_64.whl\n",
      "Installing collected packages: numpy\n",
      "Successfully installed numpy-1.19.5\n",
      "Note: you may need to restart the kernel to use updated packages.\n"
     ]
    }
   ],
   "source": [
    "pip install numpy"
   ]
  },
  {
   "cell_type": "code",
   "execution_count": 2,
   "metadata": {},
   "outputs": [],
   "source": [
    "import numpy as np"
   ]
  },
  {
   "cell_type": "markdown",
   "metadata": {},
   "source": [
    "# Primer punto"
   ]
  },
  {
   "cell_type": "code",
   "execution_count": 3,
   "metadata": {},
   "outputs": [],
   "source": [
    "def funcion1 (A,B,c,d):\n",
    "    ans = None\n",
    "    ra,ca = A.shape\n",
    "    rb,cb = B.shape\n",
    "    #sacar las dimensiones de A y B\n",
    "    if ca != rb: \n",
    "        # verificar columnas y filas\n",
    "        print (\"La operación no se puede realizar, las columnas de A son diferentes a las filas de B.\")\n",
    "        pass\n",
    "    else:\n",
    "        ans = np.matmul ((A**c), (B**d))\n",
    "        #Realizar producto matricial\n",
    "        print (ans)\n",
    "    return ans\n"
   ]
  },
  {
   "cell_type": "code",
   "execution_count": 4,
   "metadata": {},
   "outputs": [],
   "source": [
    "#Crear matrices\n",
    "A = np.array([[0.1 ,2 ],[2 ,0.1]])\n",
    "B = np.array ([[1,2,3],[4,5,6]])\n",
    "C = np.array([[5/3 , 2/3],[5/3 , 2/3]])"
   ]
  },
  {
   "cell_type": "markdown",
   "metadata": {},
   "source": [
    "# Segundo punto\n",
    "    "
   ]
  },
  {
   "cell_type": "code",
   "execution_count": 5,
   "metadata": {},
   "outputs": [
    {
     "name": "stdout",
     "output_type": "stream",
     "text": [
      "La operación no se puede realizar, las columnas de A son diferentes a las filas de B.\n"
     ]
    }
   ],
   "source": [
    "#i\n",
    "ans = funcion1(A,np.transpose(B),1,1)\n"
   ]
  },
  {
   "cell_type": "code",
   "execution_count": 6,
   "metadata": {},
   "outputs": [
    {
     "name": "stdout",
     "output_type": "stream",
     "text": [
      "[[16.01 20.02 24.03]\n",
      " [ 4.04  8.05 12.06]]\n"
     ]
    }
   ],
   "source": [
    "#ii\n",
    "ans = funcion1(A,B,2,1)"
   ]
  },
  {
   "cell_type": "code",
   "execution_count": 7,
   "metadata": {},
   "outputs": [
    {
     "name": "stdout",
     "output_type": "stream",
     "text": [
      "La operación no se puede realizar, las columnas de A son diferentes a las filas de B.\n"
     ]
    }
   ],
   "source": [
    "#iii\n",
    "ans = funcion1(B,C,1,3)"
   ]
  },
  {
   "cell_type": "code",
   "execution_count": 8,
   "metadata": {},
   "outputs": [
    {
     "name": "stdout",
     "output_type": "stream",
     "text": [
      "[[38.58024691  0.98765432]\n",
      " [54.01234568  1.38271605]\n",
      " [69.44444444  1.77777778]]\n"
     ]
    }
   ],
   "source": [
    "#iv\n",
    "ans = funcion1(np.transpose(B),C,1,4)"
   ]
  },
  {
   "cell_type": "code",
   "execution_count": 11,
   "metadata": {},
   "outputs": [],
   "source": [
    "def funcion2 (A,B):\n",
    "    ans  = None\n",
    "    c = input (\"Ingrese el valor que desea para c.\")\n",
    "    d = input (\"Ingrese el valor que desea para d.\")\n",
    "    if int (c) == float(c)  and int (d) == float(d):\n",
    "        c = float (c)\n",
    "        d = float (d)\n",
    "        ans = funcion1(A,B,c,d)\n",
    "        print (ans)\n",
    "        \n",
    "    else:\n",
    "        print (\"Ingrese valores numéricos que sean enteros\")\n",
    "        funcion2(A,B)\n",
    "    return ans\n",
    "        "
   ]
  },
  {
   "cell_type": "code",
   "execution_count": 15,
   "metadata": {},
   "outputs": [
    {
     "name": "stdout",
     "output_type": "stream",
     "text": [
      "Ingrese el valor que desea para c.1\n",
      "Ingrese el valor que desea para d.1\n",
      "[[ 8.1 10.2 12.3]\n",
      " [ 2.4  4.5  6.6]]\n",
      "[[ 8.1 10.2 12.3]\n",
      " [ 2.4  4.5  6.6]]\n"
     ]
    }
   ],
   "source": [
    "ans = funcion2(A,B)"
   ]
  },
  {
   "cell_type": "code",
   "execution_count": 16,
   "metadata": {},
   "outputs": [],
   "source": []
  },
  {
   "cell_type": "markdown",
   "metadata": {},
   "source": [
    "# Tercer punto\n"
   ]
  },
  {
   "cell_type": "code",
   "execution_count": 46,
   "metadata": {},
   "outputs": [],
   "source": [
    "A = np.array([[3,2,2],[-2,1,4],[1,0,3],[5,-2,1]])\n"
   ]
  },
  {
   "cell_type": "code",
   "execution_count": 47,
   "metadata": {},
   "outputs": [
    {
     "data": {
      "text/plain": [
       "array([[ 6,  4,  4],\n",
       "       [-2,  1,  4],\n",
       "       [ 1,  0,  3],\n",
       "       [ 5, -2,  1]])"
      ]
     },
     "execution_count": 47,
     "metadata": {},
     "output_type": "execute_result"
    }
   ],
   "source": [
    "#a \n",
    "auxa =  np.copy(A) \n",
    "auxa[0]  =  A[0]*(2)\n",
    "auxa\n",
    "\n"
   ]
  },
  {
   "cell_type": "code",
   "execution_count": 48,
   "metadata": {},
   "outputs": [
    {
     "data": {
      "text/plain": [
       "array([[ 3,  2,  2],\n",
       "       [ 7,  7, 10],\n",
       "       [ 1,  0,  3],\n",
       "       [ 5, -2,  1]])"
      ]
     },
     "execution_count": 48,
     "metadata": {},
     "output_type": "execute_result"
    }
   ],
   "source": [
    "#b\n",
    "auxb = np.copy(A) \n",
    "auxb[1]  =  A[1] + 3*A[0] \n",
    "auxb \n",
    "\n"
   ]
  },
  {
   "cell_type": "code",
   "execution_count": 49,
   "metadata": {},
   "outputs": [
    {
     "data": {
      "text/plain": [
       "array([[ 3,  2,  2],\n",
       "       [-2,  1,  4],\n",
       "       [-2, -2,  1],\n",
       "       [ 5, -2,  1]])"
      ]
     },
     "execution_count": 49,
     "metadata": {},
     "output_type": "execute_result"
    }
   ],
   "source": [
    "#c\n",
    "auxc = np.copy(A) \n",
    "auxc[2]  =  A[2] - A[0] \n",
    "auxc \n"
   ]
  },
  {
   "cell_type": "code",
   "execution_count": 50,
   "metadata": {},
   "outputs": [
    {
     "data": {
      "text/plain": [
       "array([[  3,   2,   2],\n",
       "       [ -2,   1,   4],\n",
       "       [  1,   0,   3],\n",
       "       [ -7, -10,  -7]])"
      ]
     },
     "execution_count": 50,
     "metadata": {},
     "output_type": "execute_result"
    }
   ],
   "source": [
    "#d\n",
    "auxd  = np.copy(A) \n",
    "auxd[3] = A[3]-4*A[0] \n",
    "auxd \n"
   ]
  },
  {
   "cell_type": "code",
   "execution_count": 54,
   "metadata": {},
   "outputs": [
    {
     "data": {
      "text/plain": [
       "array([[ 3,  2,  2],\n",
       "       [ 5, -2,  1],\n",
       "       [ 1,  0,  3],\n",
       "       [-2,  1,  4]])"
      ]
     },
     "execution_count": 54,
     "metadata": {},
     "output_type": "execute_result"
    }
   ],
   "source": [
    "#e\n",
    "auxe = np.copy(A) \n",
    "aux1 = np.copy(A[3])\n",
    "auxe[3] = A[1]\n",
    "auxe[1] = aux1\n",
    "auxe "
   ]
  }
 ],
 "metadata": {
  "kernelspec": {
   "display_name": "Python 3",
   "language": "python",
   "name": "python3"
  },
  "language_info": {
   "codemirror_mode": {
    "name": "ipython",
    "version": 3
   },
   "file_extension": ".py",
   "mimetype": "text/x-python",
   "name": "python",
   "nbconvert_exporter": "python",
   "pygments_lexer": "ipython3",
   "version": "3.6.9"
  },
  "vscode": {
   "interpreter": {
    "hash": "2d9d9cd3fe739fbba9eee7381a7a87044fffd0b0fcc3a64dd841edef4f0f1aa4"
   }
  }
 },
 "nbformat": 4,
 "nbformat_minor": 2
}
